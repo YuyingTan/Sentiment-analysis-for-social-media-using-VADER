{
 "cells": [
  {
   "cell_type": "markdown",
   "id": "7fbc14b3",
   "metadata": {},
   "source": [
    "# Sentiment analysis \n",
    "\n",
    "This code use VADER model for sentiment analysis."
   ]
  },
  {
   "cell_type": "code",
   "execution_count": 1,
   "id": "10e51634",
   "metadata": {},
   "outputs": [
    {
     "name": "stderr",
     "output_type": "stream",
     "text": [
      "[nltk_data] Downloading package vader_lexicon to\n",
      "[nltk_data]     C:\\Users\\YTan\\AppData\\Roaming\\nltk_data...\n",
      "[nltk_data]   Package vader_lexicon is already up-to-date!\n"
     ]
    }
   ],
   "source": [
    "import pandas as pd\n",
    "import nltk\n",
    "# Download the lexicon\n",
    "nltk.download(\"vader_lexicon\")\n",
    "# Import the lexicon \n",
    "from nltk.sentiment.vader import SentimentIntensityAnalyzer\n",
    "# Create an instance of SentimentIntensityAnalyzer\n",
    "sent_analyzer = SentimentIntensityAnalyzer()\n",
    "\n",
    "import matplotlib.pyplot as plt\n",
    "\n",
    "\"\"\"\n",
    "Define functions\n",
    "\"\"\"\n",
    "# function to compute sentiment score and draw a histogram\n",
    "# a positive sentiment, compound ≥ 0.05\n",
    "# a negative sentiment, compound ≤ -0.05\n",
    "# a neutral sentiment, the compound is between ]-0.05, 0.05[\n",
    "def calculate_sentiment(text):\n",
    "    sentiment = [sent_analyzer.polarity_scores(sentence) for sentence in text]\n",
    "    compound_score = [item['compound'] for item in sentiment]\n",
    "    return compound_score\n",
    "\n",
    "def create_histogram(text1, text2, title):\n",
    "    # create figure and axis objects with subplots()\n",
    "    fig,ax = plt.subplots()\n",
    "    # make a plot\n",
    "    ax.hist([text1], label=['title'], color = 'lightskyblue', alpha=1)\n",
    "    ax.set_xlabel(\"Sentiment score\")\n",
    "    ax.set_ylabel(\"Count of titles\")\n",
    "    ax.set_title(\"Histogram of sentiment in \" + title)\n",
    "    ax.legend(loc='upper left')\n",
    "\n",
    "    # twin object for two different y-axis on the sample plot\n",
    "    ax2=ax.twinx()\n",
    "    # make a plot with different y-axis using second axis object\n",
    "    ax2.hist([text2], label=['comment'], color = 'lightcoral', alpha=0.6)\n",
    "    ax2.set_ylabel(\"Count of comments\")\n",
    "    ax2.legend(loc='upper right')\n",
    "\n",
    "    plt.show()\n",
    "    "
   ]
  },
  {
   "cell_type": "markdown",
   "id": "7422eadf",
   "metadata": {},
   "source": [
    "### 1. r/ainbow"
   ]
  },
  {
   "cell_type": "code",
   "execution_count": 11,
   "id": "1453687d",
   "metadata": {},
   "outputs": [
    {
     "data": {
      "text/html": [
       "<div>\n",
       "<style scoped>\n",
       "    .dataframe tbody tr th:only-of-type {\n",
       "        vertical-align: middle;\n",
       "    }\n",
       "\n",
       "    .dataframe tbody tr th {\n",
       "        vertical-align: top;\n",
       "    }\n",
       "\n",
       "    .dataframe thead th {\n",
       "        text-align: right;\n",
       "    }\n",
       "</style>\n",
       "<table border=\"1\" class=\"dataframe\">\n",
       "  <thead>\n",
       "    <tr style=\"text-align: right;\">\n",
       "      <th></th>\n",
       "      <th>comment_body</th>\n",
       "    </tr>\n",
       "  </thead>\n",
       "  <tbody>\n",
       "    <tr>\n",
       "      <th>0</th>\n",
       "      <td>It sounds like you’re fairly young. It’s not h...</td>\n",
       "    </tr>\n",
       "    <tr>\n",
       "      <th>1</th>\n",
       "      <td>🫂💖🫂💖🫂💖🫂💖🫂💖🫂🫂🫂\\n\\nI am so sorry you had to go t...</td>\n",
       "    </tr>\n",
       "    <tr>\n",
       "      <th>2</th>\n",
       "      <td>Keep in mind that I'm a shit stirrer, but I wo...</td>\n",
       "    </tr>\n",
       "    <tr>\n",
       "      <th>3</th>\n",
       "      <td>You were physically assaulted. An online callo...</td>\n",
       "    </tr>\n",
       "    <tr>\n",
       "      <th>4</th>\n",
       "      <td>Skip reporting it to school or anything like t...</td>\n",
       "    </tr>\n",
       "  </tbody>\n",
       "</table>\n",
       "</div>"
      ],
      "text/plain": [
       "                                        comment_body\n",
       "0  It sounds like you’re fairly young. It’s not h...\n",
       "1  🫂💖🫂💖🫂💖🫂💖🫂💖🫂🫂🫂\\n\\nI am so sorry you had to go t...\n",
       "2  Keep in mind that I'm a shit stirrer, but I wo...\n",
       "3  You were physically assaulted. An online callo...\n",
       "4  Skip reporting it to school or anything like t..."
      ]
     },
     "execution_count": 11,
     "metadata": {},
     "output_type": "execute_result"
    }
   ],
   "source": [
    "reddit = pd.read_csv(\"Filtered_ainbow.csv\")\n",
    "reddit_titles = reddit.drop(columns=['label','id','comment_parent_id','subreddit','score','num_comments','selftext','created_utc','pinned', 'total awards','upvote_ratio','url','created','created date','created time'], axis=1)\n",
    "reddit_comments = pd.read_csv('Filteredv2_ainbow_comments_subreddit.csv')\n",
    "reddit_comments = reddit_comments.drop(columns=['label','subreddit_x','title_x','score_x','num_comments_x','selftext_x','total awards_x','upvote_ratio_x','url_x'], axis=1).dropna()\n",
    "reddit_comments.head()"
   ]
  },
  {
   "cell_type": "code",
   "execution_count": 12,
   "id": "492019af",
   "metadata": {},
   "outputs": [],
   "source": [
    "compound_score_titles = calculate_sentiment(reddit_titles['title'])\n",
    "reddit_titles['sentiment_titles'] = \" \"\n",
    "reddit_titles ['sentiment_titles'] = compound_score_titles\n",
    "\n",
    "compound_score_comments = calculate_sentiment(reddit_comments['comment_body'])\n",
    "reddit_comments['sentiment_comments'] = \" \"\n",
    "reddit_comments['sentiment_comments'] = compound_score_comments"
   ]
  },
  {
   "cell_type": "code",
   "execution_count": 13,
   "id": "3962bf27",
   "metadata": {},
   "outputs": [
    {
     "data": {
      "image/png": "[encoded data removed]",
      "text/plain": [
       "<Figure size 432x288 with 2 Axes>"
      ]
     },
     "metadata": {
      "needs_background": "light"
     },
     "output_type": "display_data"
    }
   ],
   "source": [
    "create_histogram(reddit_titles['sentiment_titles'], reddit_comments['sentiment_comments'], 'r/ainbow')"
   ]
  },
  {
   "cell_type": "markdown",
   "id": "feeab120",
   "metadata": {},
   "source": [
    "### 2. r/Feminism"
   ]
  },
  {
   "cell_type": "code",
   "execution_count": 16,
   "id": "980817d3",
   "metadata": {},
   "outputs": [
    {
     "data": {
      "text/html": [
       "<div>\n",
       "<style scoped>\n",
       "    .dataframe tbody tr th:only-of-type {\n",
       "        vertical-align: middle;\n",
       "    }\n",
       "\n",
       "    .dataframe tbody tr th {\n",
       "        vertical-align: top;\n",
       "    }\n",
       "\n",
       "    .dataframe thead th {\n",
       "        text-align: right;\n",
       "    }\n",
       "</style>\n",
       "<table border=\"1\" class=\"dataframe\">\n",
       "  <thead>\n",
       "    <tr style=\"text-align: right;\">\n",
       "      <th></th>\n",
       "      <th>comment_body</th>\n",
       "    </tr>\n",
       "  </thead>\n",
       "  <tbody>\n",
       "    <tr>\n",
       "      <th>2</th>\n",
       "      <td>The more the culture holds up a job or role as...</td>\n",
       "    </tr>\n",
       "    <tr>\n",
       "      <th>3</th>\n",
       "      <td>This is true. Evangelical Christians believe t...</td>\n",
       "    </tr>\n",
       "    <tr>\n",
       "      <th>4</th>\n",
       "      <td>Yes, I would agree. If you see in Indian comme...</td>\n",
       "    </tr>\n",
       "    <tr>\n",
       "      <th>5</th>\n",
       "      <td>There's a unique evil in making women feel les...</td>\n",
       "    </tr>\n",
       "    <tr>\n",
       "      <th>6</th>\n",
       "      <td>If motherhood is so great, why do women have t...</td>\n",
       "    </tr>\n",
       "  </tbody>\n",
       "</table>\n",
       "</div>"
      ],
      "text/plain": [
       "                                        comment_body\n",
       "2  The more the culture holds up a job or role as...\n",
       "3  This is true. Evangelical Christians believe t...\n",
       "4  Yes, I would agree. If you see in Indian comme...\n",
       "5  There's a unique evil in making women feel les...\n",
       "6  If motherhood is so great, why do women have t..."
      ]
     },
     "execution_count": 16,
     "metadata": {},
     "output_type": "execute_result"
    }
   ],
   "source": [
    "reddit = pd.read_csv(\"Filtered_Feminism.csv\")\n",
    "reddit_titles = reddit.drop(columns=['label','id','comment_parent_id','subreddit','score','num_comments','selftext','created_utc','pinned', 'total awards','upvote_ratio','url','created','created date','created time'], axis=1)\n",
    "reddit_comments = pd.read_csv('Filteredv2_Feminism_comments_subreddit.csv')\n",
    "reddit_comments = reddit_comments.drop(columns=['label','subreddit','title','score','num_comments','selftext','total awards','upvote_ratio','url'], axis=1).dropna()\n",
    "reddit_comments.head()"
   ]
  },
  {
   "cell_type": "code",
   "execution_count": 17,
   "id": "3a242e46",
   "metadata": {},
   "outputs": [],
   "source": [
    "compound_score_titles = calculate_sentiment(reddit_titles['title'])\n",
    "reddit_titles['sentiment_titles'] = \" \"\n",
    "reddit_titles ['sentiment_titles'] = compound_score_titles\n",
    "\n",
    "compound_score_comments = calculate_sentiment(reddit_comments['comment_body'])\n",
    "reddit_comments['sentiment_comments'] = \" \"\n",
    "reddit_comments['sentiment_comments'] = compound_score_comments"
   ]
  },
  {
   "cell_type": "code",
   "execution_count": 18,
   "id": "c524b3cc",
   "metadata": {},
   "outputs": [
    {
     "data": {
      "image/png": "[encoded data removed]",
      "text/plain": [
       "<Figure size 432x288 with 2 Axes>"
      ]
     },
     "metadata": {
      "needs_background": "light"
     },
     "output_type": "display_data"
    }
   ],
   "source": [
    "create_histogram(reddit_titles['sentiment_titles'], reddit_comments['sentiment_comments'], 'r/Feminism')"
   ]
  },
  {
   "cell_type": "markdown",
   "id": "e645c550",
   "metadata": {},
   "source": [
    "### 3. r/IncelTear"
   ]
  },
  {
   "cell_type": "code",
   "execution_count": 19,
   "id": "bbe5fb0e",
   "metadata": {},
   "outputs": [
    {
     "data": {
      "text/html": [
       "<div>\n",
       "<style scoped>\n",
       "    .dataframe tbody tr th:only-of-type {\n",
       "        vertical-align: middle;\n",
       "    }\n",
       "\n",
       "    .dataframe tbody tr th {\n",
       "        vertical-align: top;\n",
       "    }\n",
       "\n",
       "    .dataframe thead th {\n",
       "        text-align: right;\n",
       "    }\n",
       "</style>\n",
       "<table border=\"1\" class=\"dataframe\">\n",
       "  <thead>\n",
       "    <tr style=\"text-align: right;\">\n",
       "      <th></th>\n",
       "      <th>comment_body</th>\n",
       "    </tr>\n",
       "  </thead>\n",
       "  <tbody>\n",
       "    <tr>\n",
       "      <th>0</th>\n",
       "      <td>Is it too late for me\\n\\nI'm 27 years old and ...</td>\n",
       "    </tr>\n",
       "    <tr>\n",
       "      <th>1</th>\n",
       "      <td>Throwaway account because some people know my ...</td>\n",
       "    </tr>\n",
       "    <tr>\n",
       "      <th>2</th>\n",
       "      <td>New to this sub. I would like to make some fri...</td>\n",
       "    </tr>\n",
       "    <tr>\n",
       "      <th>3</th>\n",
       "      <td>. It seems like a big deal for women is to phy...</td>\n",
       "    </tr>\n",
       "    <tr>\n",
       "      <th>4</th>\n",
       "      <td>How  do you pronounce femoid? It's been buggin...</td>\n",
       "    </tr>\n",
       "  </tbody>\n",
       "</table>\n",
       "</div>"
      ],
      "text/plain": [
       "                                        comment_body\n",
       "0  Is it too late for me\\n\\nI'm 27 years old and ...\n",
       "1  Throwaway account because some people know my ...\n",
       "2  New to this sub. I would like to make some fri...\n",
       "3  . It seems like a big deal for women is to phy...\n",
       "4  How  do you pronounce femoid? It's been buggin..."
      ]
     },
     "execution_count": 19,
     "metadata": {},
     "output_type": "execute_result"
    }
   ],
   "source": [
    "reddit = pd.read_csv(\"Filtered_IncelTear.csv\")\n",
    "reddit_titles = reddit.drop(columns=['label','id','comment_parent_id','subreddit','score','num_comments','selftext','created_utc','pinned', 'total awards','upvote_ratio','url','created','created date','created time'], axis=1)\n",
    "reddit_comments = pd.read_csv('Filteredv2_IncelTear_comments_subreddit.csv')\n",
    "reddit_comments = reddit_comments.drop(columns=['label','subreddit','title','score','num_comments','selftext','total awards','upvote_ratio','url'], axis=1).dropna()\n",
    "reddit_comments.head()"
   ]
  },
  {
   "cell_type": "code",
   "execution_count": 20,
   "id": "731b00a5",
   "metadata": {},
   "outputs": [],
   "source": [
    "compound_score_titles = calculate_sentiment(reddit_titles['title'])\n",
    "reddit_titles['sentiment_titles'] = \" \"\n",
    "reddit_titles ['sentiment_titles'] = compound_score_titles\n",
    "\n",
    "compound_score_comments = calculate_sentiment(reddit_comments['comment_body'])\n",
    "reddit_comments['sentiment_comments'] = \" \"\n",
    "reddit_comments['sentiment_comments'] = compound_score_comments"
   ]
  },
  {
   "cell_type": "code",
   "execution_count": 21,
   "id": "b7d92e2c",
   "metadata": {},
   "outputs": [
    {
     "data": {
      "image/png": "[encoded data removed]",
      "text/plain": [
       "<Figure size 432x288 with 2 Axes>"
      ]
     },
     "metadata": {
      "needs_background": "light"
     },
     "output_type": "display_data"
    }
   ],
   "source": [
    "create_histogram(reddit_titles['sentiment_titles'], reddit_comments['sentiment_comments'], 'r/IncelTear')"
   ]
  },
  {
   "cell_type": "markdown",
   "id": "415a1763",
   "metadata": {},
   "source": [
    "### 4. r/MensLib"
   ]
  },
  {
   "cell_type": "code",
   "execution_count": 22,
   "id": "40f2f877",
   "metadata": {},
   "outputs": [
    {
     "data": {
      "text/html": [
       "<div>\n",
       "<style scoped>\n",
       "    .dataframe tbody tr th:only-of-type {\n",
       "        vertical-align: middle;\n",
       "    }\n",
       "\n",
       "    .dataframe tbody tr th {\n",
       "        vertical-align: top;\n",
       "    }\n",
       "\n",
       "    .dataframe thead th {\n",
       "        text-align: right;\n",
       "    }\n",
       "</style>\n",
       "<table border=\"1\" class=\"dataframe\">\n",
       "  <thead>\n",
       "    <tr style=\"text-align: right;\">\n",
       "      <th></th>\n",
       "      <th>comment_body</th>\n",
       "    </tr>\n",
       "  </thead>\n",
       "  <tbody>\n",
       "    <tr>\n",
       "      <th>0</th>\n",
       "      <td>If you are in crisis, are considering hurting ...</td>\n",
       "    </tr>\n",
       "    <tr>\n",
       "      <th>1</th>\n",
       "      <td>To be honest, I find it really sad and dishear...</td>\n",
       "    </tr>\n",
       "    <tr>\n",
       "      <th>2</th>\n",
       "      <td>Doomer pilled. Being a Trans guy right now fee...</td>\n",
       "    </tr>\n",
       "    <tr>\n",
       "      <th>3</th>\n",
       "      <td>I recently met a transwoman who had started he...</td>\n",
       "    </tr>\n",
       "    <tr>\n",
       "      <th>4</th>\n",
       "      <td>Struggling a bit. Earlier this year, my close ...</td>\n",
       "    </tr>\n",
       "  </tbody>\n",
       "</table>\n",
       "</div>"
      ],
      "text/plain": [
       "                                        comment_body\n",
       "0  If you are in crisis, are considering hurting ...\n",
       "1  To be honest, I find it really sad and dishear...\n",
       "2  Doomer pilled. Being a Trans guy right now fee...\n",
       "3  I recently met a transwoman who had started he...\n",
       "4  Struggling a bit. Earlier this year, my close ..."
      ]
     },
     "execution_count": 22,
     "metadata": {},
     "output_type": "execute_result"
    }
   ],
   "source": [
    "reddit = pd.read_csv(\"Filtered_MensLib.csv\")\n",
    "reddit_titles = reddit.drop(columns=['label','id','comment_parent_id','subreddit','score','num_comments','selftext','created_utc','pinned', 'total awards','upvote_ratio','url','created','created date','created time'], axis=1)\n",
    "reddit_comments = pd.read_csv('Filteredv2_MensLib_comments_subreddit.csv')\n",
    "reddit_comments = reddit_comments.drop(columns=['label','subreddit','title','score','num_comments','selftext','total awards','upvote_ratio','url'], axis=1).dropna()\n",
    "reddit_comments.head()"
   ]
  },
  {
   "cell_type": "code",
   "execution_count": 23,
   "id": "7f42679e",
   "metadata": {},
   "outputs": [],
   "source": [
    "compound_score_titles = calculate_sentiment(reddit_titles['title'])\n",
    "reddit_titles['sentiment_titles'] = \" \"\n",
    "reddit_titles ['sentiment_titles'] = compound_score_titles\n",
    "\n",
    "compound_score_comments = calculate_sentiment(reddit_comments['comment_body'])\n",
    "reddit_comments['sentiment_comments'] = \" \"\n",
    "reddit_comments['sentiment_comments'] = compound_score_comments"
   ]
  },
  {
   "cell_type": "code",
   "execution_count": 24,
   "id": "0e3af463",
   "metadata": {},
   "outputs": [
    {
     "data": {
      "image/png": "[encoded data removed]",
      "text/plain": [
       "<Figure size 432x288 with 2 Axes>"
      ]
     },
     "metadata": {
      "needs_background": "light"
     },
     "output_type": "display_data"
    }
   ],
   "source": [
    "create_histogram(reddit_titles['sentiment_titles'], reddit_comments['sentiment_comments'], 'r/MensLib')"
   ]
  },
  {
   "cell_type": "markdown",
   "id": "274f47f0",
   "metadata": {},
   "source": [
    "### 5. r/TwoXChromosomes"
   ]
  },
  {
   "cell_type": "code",
   "execution_count": 27,
   "id": "64481d2b",
   "metadata": {},
   "outputs": [
    {
     "data": {
      "text/html": [
       "<div>\n",
       "<style scoped>\n",
       "    .dataframe tbody tr th:only-of-type {\n",
       "        vertical-align: middle;\n",
       "    }\n",
       "\n",
       "    .dataframe tbody tr th {\n",
       "        vertical-align: top;\n",
       "    }\n",
       "\n",
       "    .dataframe thead th {\n",
       "        text-align: right;\n",
       "    }\n",
       "</style>\n",
       "<table border=\"1\" class=\"dataframe\">\n",
       "  <thead>\n",
       "    <tr style=\"text-align: right;\">\n",
       "      <th></th>\n",
       "      <th>comment_body</th>\n",
       "    </tr>\n",
       "  </thead>\n",
       "  <tbody>\n",
       "    <tr>\n",
       "      <th>0</th>\n",
       "      <td>I’ve always wanted to do an experiment and mak...</td>\n",
       "    </tr>\n",
       "    <tr>\n",
       "      <th>1</th>\n",
       "      <td>I set up a post on r/men asking about pro choi...</td>\n",
       "    </tr>\n",
       "    <tr>\n",
       "      <th>2</th>\n",
       "      <td>People who knew me while I was experiencing wh...</td>\n",
       "    </tr>\n",
       "    <tr>\n",
       "      <th>3</th>\n",
       "      <td>I've lurked reddit since literally its incepti...</td>\n",
       "    </tr>\n",
       "    <tr>\n",
       "      <th>4</th>\n",
       "      <td>I agree that misogyny is rampant. I agree that...</td>\n",
       "    </tr>\n",
       "  </tbody>\n",
       "</table>\n",
       "</div>"
      ],
      "text/plain": [
       "                                        comment_body\n",
       "0  I’ve always wanted to do an experiment and mak...\n",
       "1  I set up a post on r/men asking about pro choi...\n",
       "2  People who knew me while I was experiencing wh...\n",
       "3  I've lurked reddit since literally its incepti...\n",
       "4  I agree that misogyny is rampant. I agree that..."
      ]
     },
     "execution_count": 27,
     "metadata": {},
     "output_type": "execute_result"
    }
   ],
   "source": [
    "reddit = pd.read_csv(\"Filtered_TwoXChromosomes.csv\")\n",
    "reddit_titles = reddit.drop(columns=['label','id','comment_parent_id','subreddit','score','num_comments','selftext','created_utc','pinned', 'total_awards_received','upvote_ratio','url','created date','created time'], axis=1)\n",
    "reddit_comments = pd.read_csv('Filteredv2_TwoXChromosomes_comments_subreddit.csv')\n",
    "reddit_comments = reddit_comments.drop(columns=['label','subreddit','title','score','num_comments','selftext','total_awards_received','upvote_ratio','url'], axis=1).dropna()\n",
    "reddit_comments.head()"
   ]
  },
  {
   "cell_type": "code",
   "execution_count": 28,
   "id": "44d850b6",
   "metadata": {},
   "outputs": [],
   "source": [
    "compound_score_titles = calculate_sentiment(reddit_titles['title'])\n",
    "reddit_titles['sentiment_titles'] = \" \"\n",
    "reddit_titles ['sentiment_titles'] = compound_score_titles\n",
    "\n",
    "compound_score_comments = calculate_sentiment(reddit_comments['comment_body'])\n",
    "reddit_comments['sentiment_comments'] = \" \"\n",
    "reddit_comments['sentiment_comments'] = compound_score_comments"
   ]
  },
  {
   "cell_type": "code",
   "execution_count": 29,
   "id": "ca2e810e",
   "metadata": {},
   "outputs": [
    {
     "data": {
      "image/png": "[encoded data removed]",
      "text/plain": [
       "<Figure size 432x288 with 2 Axes>"
      ]
     },
     "metadata": {
      "needs_background": "light"
     },
     "output_type": "display_data"
    }
   ],
   "source": [
    "create_histogram(reddit_titles['sentiment_titles'], reddit_comments['sentiment_comments'], 'r/TwoXChromosomes')"
   ]
  },
  {
   "cell_type": "code",
   "execution_count": null,
   "id": "dd0d01bc",
   "metadata": {},
   "outputs": [],
   "source": []
  }
 ],
 "metadata": {
  "kernelspec": {
   "display_name": "Python 3",
   "language": "python",
   "name": "python3"
  },
  "language_info": {
   "codemirror_mode": {
    "name": "ipython",
    "version": 3
   },
   "file_extension": ".py",
   "mimetype": "text/x-python",
   "name": "python",
   "nbconvert_exporter": "python",
   "pygments_lexer": "ipython3",
   "version": "3.8.8"
  }
 },
 "nbformat": 4,
 "nbformat_minor": 5
}
